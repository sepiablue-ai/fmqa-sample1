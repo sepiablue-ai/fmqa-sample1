{
 "cells": [
  {
   "cell_type": "markdown",
   "id": "05885887",
   "metadata": {},
   "source": [
    "# 量子アニーリングによる3Dパッキング最適化 (Fixstars Amplify FMQA)\n",
    "\n",
    "本ノートブックでは、Fixstars Amplify の FMQA（Factorization Machineによるブラックボックス最適化）を用いて、\n",
    "60個の段ボールを1つの輸送箱に効率良く詰める問題を解きます。\n",
    "\n",
    "## 🔍 問題概要\n",
    "\n",
    "- 段ボールのサイズは8種類、各段ボールは90度回転可（荷姿2通り）\n",
    "- 評価軸：\n",
    "  - 充填率（体積効率）\n",
    "  - 重心位置（箱の中心±10%以内が望ましい）\n",
    "  - 安定性（横方向の面接触：最大4面）\n"
   ]
  },
  {
   "cell_type": "code",
   "execution_count": null,
   "id": "00d2164a",
   "metadata": {},
   "outputs": [],
   "source": [
    "!pip install amplify --quiet"
   ]
  },
  {
   "cell_type": "code",
   "execution_count": null,
   "id": "4056cf0e",
   "metadata": {},
   "outputs": [],
   "source": [
    "\n",
    "import numpy as np\n",
    "import matplotlib.pyplot as plt\n",
    "from mpl_toolkits.mplot3d.art3d import Poly3DCollection\n",
    "from amplify import BinarySymbol, FixstarsClient, FMQASampler\n"
   ]
  },
  {
   "cell_type": "markdown",
   "id": "08fe3dfe",
   "metadata": {},
   "source": [
    "## 📦 荷姿候補の生成"
   ]
  },
  {
   "cell_type": "code",
   "execution_count": null,
   "id": "64830efb",
   "metadata": {},
   "outputs": [],
   "source": [
    "\n",
    "BOX_SIZE = (100, 100, 100)\n",
    "CARTON_TYPES = [(20, 30, 10), (40, 20, 10), (10, 10, 10),\n",
    "                (30, 30, 20), (50, 40, 20), (20, 20, 20),\n",
    "                (60, 30, 15), (25, 25, 25)]\n",
    "\n",
    "NUM_CANDIDATES = 100\n",
    "GRID_UNIT = 10\n",
    "NUM_CARTONS = 60\n",
    "\n",
    "np.random.seed(42)\n",
    "CARTON_ASSIGNMENTS = np.random.choice(len(CARTON_TYPES), size=NUM_CARTONS)\n",
    "\n",
    "def generate_placement_candidates(carton_type_id):\n",
    "    w, d, h = CARTON_TYPES[carton_type_id]\n",
    "    poses = [(w, d, h), (d, w, h)]\n",
    "    candidates = []\n",
    "    for pose in poses:\n",
    "        pw, pd, ph = pose\n",
    "        for x in range(0, BOX_SIZE[0] - pw + 1, GRID_UNIT):\n",
    "            for y in range(0, BOX_SIZE[1] - pd + 1, GRID_UNIT):\n",
    "                for z in range(0, BOX_SIZE[2] - ph + 1, GRID_UNIT):\n",
    "                    candidates.append({\n",
    "                        'position': (x, y, z),\n",
    "                        'size': (pw, pd, ph)\n",
    "                    })\n",
    "    np.random.shuffle(candidates)\n",
    "    return candidates[:NUM_CANDIDATES]\n",
    "\n",
    "carton_placement_candidates = [\n",
    "    generate_placement_candidates(ct_id) for ct_id in CARTON_ASSIGNMENTS\n",
    "]\n"
   ]
  },
  {
   "cell_type": "markdown",
   "id": "1a379d16",
   "metadata": {},
   "source": [
    "## ⚠️ 衝突判定関数"
   ]
  },
  {
   "cell_type": "code",
   "execution_count": null,
   "id": "f915b691",
   "metadata": {},
   "outputs": [],
   "source": [
    "\n",
    "def check_collision(pos1, size1, pos2, size2):\n",
    "    for i in range(3):\n",
    "        if pos1[i] + size1[i] <= pos2[i] or pos2[i] + size2[i] <= pos1[i]:\n",
    "            continue\n",
    "        else:\n",
    "            return True\n",
    "    return False\n"
   ]
  },
  {
   "cell_type": "markdown",
   "id": "b0ca6ac4",
   "metadata": {},
   "source": [
    "## 🧠 評価関数の定義"
   ]
  },
  {
   "cell_type": "code",
   "execution_count": null,
   "id": "b10b7f75",
   "metadata": {},
   "outputs": [],
   "source": [
    "\n",
    "def evaluate_solution(assignments):\n",
    "    used_volume = 0\n",
    "    total_volume = BOX_SIZE[0] * BOX_SIZE[1] * BOX_SIZE[2]\n",
    "    positions, sizes, mass_centers = [], [], []\n",
    "\n",
    "    for i, candidate_id in enumerate(assignments):\n",
    "        candidate = carton_placement_candidates[i][candidate_id]\n",
    "        pos = candidate['position']\n",
    "        size = candidate['size']\n",
    "        positions.append(pos)\n",
    "        sizes.append(size)\n",
    "        used_volume += size[0] * size[1] * size[2]\n",
    "        mass_centers.append([pos[j] + size[j] / 2 for j in range(3)])\n",
    "\n",
    "    for i in range(NUM_CARTONS):\n",
    "        for j in range(i + 1, NUM_CARTONS):\n",
    "            if check_collision(positions[i], sizes[i], positions[j], sizes[j]):\n",
    "                return -1e6\n",
    "\n",
    "    packing_efficiency = used_volume / total_volume\n",
    "    gravity_center = np.mean(mass_centers, axis=0)\n",
    "    target = np.array(BOX_SIZE) / 2\n",
    "    gravity_penalty = np.linalg.norm(gravity_center - target) / np.linalg.norm(target)\n",
    "\n",
    "    stability_score = 0\n",
    "    for i in range(NUM_CARTONS):\n",
    "        pos1, size1 = positions[i], sizes[i]\n",
    "        neighbors = 0\n",
    "        for j in range(NUM_CARTONS):\n",
    "            if i == j:\n",
    "                continue\n",
    "            pos2, size2 = positions[j], sizes[j]\n",
    "            for dim in range(2):\n",
    "                if abs(pos1[dim] + size1[dim] - pos2[dim]) <= 1 or abs(pos2[dim] + size2[dim] - pos1[dim]) <= 1:\n",
    "                    if abs(pos1[2] - pos2[2]) < GRID_UNIT:\n",
    "                        neighbors += 1\n",
    "        stability_score += min(neighbors, 4)\n",
    "    stability_score = stability_score / (4 * NUM_CARTONS)\n",
    "\n",
    "    return packing_efficiency - gravity_penalty + stability_score\n"
   ]
  },
  {
   "cell_type": "markdown",
   "id": "87478696",
   "metadata": {},
   "source": [
    "## 📊 可視化関数（3D）"
   ]
  },
  {
   "cell_type": "code",
   "execution_count": null,
   "id": "67ac179d",
   "metadata": {},
   "outputs": [],
   "source": [
    "\n",
    "def visualize_packing(assignments):\n",
    "    fig = plt.figure(figsize=(10, 8))\n",
    "    ax = fig.add_subplot(111, projection='3d')\n",
    "\n",
    "    def draw_box(pos, size, color):\n",
    "        x, y, z = pos\n",
    "        dx, dy, dz = size\n",
    "        vertices = [\n",
    "            [x, y, z], [x+dx, y, z], [x+dx, y+dy, z], [x, y+dy, z],\n",
    "            [x, y, z+dz], [x+dx, y, z+dz], [x+dx, y+dy, z+dz], [x, y+dy, z+dz]\n",
    "        ]\n",
    "        faces = [\n",
    "            [vertices[i] for i in [0,1,2,3]],\n",
    "            [vertices[i] for i in [4,5,6,7]],\n",
    "            [vertices[i] for i in [0,1,5,4]],\n",
    "            [vertices[i] for i in [2,3,7,6]],\n",
    "            [vertices[i] for i in [1,2,6,5]],\n",
    "            [vertices[i] for i in [0,3,7,4]],\n",
    "        ]\n",
    "        box = Poly3DCollection(faces, alpha=0.6)\n",
    "        box.set_facecolor(color)\n",
    "        ax.add_collection3d(box)\n",
    "\n",
    "    for i, candidate_id in enumerate(assignments):\n",
    "        candidate = carton_placement_candidates[i][candidate_id]\n",
    "        color = np.random.rand(3,)\n",
    "        draw_box(candidate['position'], candidate['size'], color)\n",
    "\n",
    "    ax.set_xlim([0, BOX_SIZE[0]])\n",
    "    ax.set_ylim([0, BOX_SIZE[1]])\n",
    "    ax.set_zlim([0, BOX_SIZE[2]])\n",
    "    ax.set_xlabel(\"X\")\n",
    "    ax.set_ylabel(\"Y\")\n",
    "    ax.set_zlabel(\"Z\")\n",
    "    ax.set_title(\"3D Packing Visualization\")\n",
    "    plt.tight_layout()\n",
    "    plt.show()\n"
   ]
  },
  {
   "cell_type": "markdown",
   "id": "03eb6bb6",
   "metadata": {},
   "source": [
    "## 🚀 最適化の実行（FMQA）"
   ]
  },
  {
   "cell_type": "code",
   "execution_count": null,
   "id": "9033f80f",
   "metadata": {},
   "outputs": [],
   "source": [
    "\n",
    "client = FixstarsClient()\n",
    "client.token = \"your_token\"  # 🔒 Fixstars Amplify APIトークンをここに記入\n",
    "client.parameters.timeout = 5000\n",
    "\n",
    "sampler = FMQASampler(client)\n",
    "variables = [BinarySymbol(NUM_CANDIDATES) for _ in range(NUM_CARTONS)]\n",
    "\n",
    "best_result = sampler.sample(evaluate_solution, variables, num_search=100)\n",
    "\n",
    "print(\"Best score:\", best_result.score)\n",
    "print(\"Best assignment:\", best_result.values)\n",
    "visualize_packing(best_result.values)\n"
   ]
  }
 ],
 "metadata": {},
 "nbformat": 4,
 "nbformat_minor": 5
}